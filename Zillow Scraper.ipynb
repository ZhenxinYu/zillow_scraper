{
 "cells": [
  {
   "cell_type": "code",
   "execution_count": null,
   "metadata": {},
   "outputs": [],
   "source": [
    "from selenium import webdriver\n",
    "from selenium.webdriver.common.keys import Keys\n",
    "from bs4 import BeautifulSoup\n",
    "import time\n",
    "from tqdm import tqdm_notebook as tqdm\n",
    "import pandas as pd\n",
    "from datetime import datetime"
   ]
  },
  {
   "cell_type": "code",
   "execution_count": null,
   "metadata": {},
   "outputs": [],
   "source": [
    "# zipmap.net/California/Santa_Clara_County.html\n",
    "# sunnyvale - 94085, 94086, 94087, 94089\n",
    "# cupertino - 95014\n",
    "# los altos - 94024, 94022\n",
    "# saratoga - 95070\n",
    "# redwood city - 94063, 94061\n",
    "## added on 5/18\n",
    "# santa clara - 95050, 95051, 95128\n",
    "# west san jose - 95129\n",
    "# campell - 95117\n",
    "\n",
    "\n",
    "## Could be added later\n",
    "# mountain view - 94040, 94041, 94043\n",
    "# west san jose - 95129\n",
    "# campell - 95130, 95008"
   ]
  },
  {
   "cell_type": "code",
   "execution_count": null,
   "metadata": {},
   "outputs": [],
   "source": [
    "zipcodes = [94087, 94086, 94085, 94089, 95014, 94024, 94022, 95070, 94063,94061, 95050, 95051, 95128, 95129, 95117]"
   ]
  },
  {
   "cell_type": "code",
   "execution_count": null,
   "metadata": {},
   "outputs": [],
   "source": [
    "#search for active proxy - https://free-proxy-list.net/\n",
    "proxy_list = [\"37.120.192.154:8080\", \"201.148.70.100:80\", \"118.69.50.154:80\",\n",
    "              \"203.124.39.150:80\", \"104.154.143.77:3128\", \"143.0.92.162:80\",\n",
    "              \"164.163.73.66:999\", \"138.197.157.32:8080\", \"42.3.51.114:80\",\n",
    "              \"103.105.49.53:80\", \"52.149.71.249:80\", \"115.249.2.192:8080\",\n",
    "              \"176.9.75.42:8080\", \"203.202.245.62:80\", \"139.99.135.214:80\",\n",
    "              \"138.68.41.90:3128\", \"88.198.50.103:8080\", \"46.4.96.137;3128\",\n",
    "              \"78.93.58.60:3128\", \"191.233.199.87:80\", \"138.68.161.14:3128\"]"
   ]
  },
  {
   "cell_type": "code",
   "execution_count": null,
   "metadata": {
    "scrolled": true
   },
   "outputs": [],
   "source": [
    "df = pd.DataFrame(columns = ['zipcode','address', 'listing_type', 'price', 'num_bds', 'num_ba', 'sqft_num', 'details', 'url'])\n",
    "proxy_index = 0\n",
    "for zc in tqdm(zipcodes):\n",
    "    list_card = []\n",
    "    while len(list_card) == 0:\n",
    "        proxy_use = proxy_list[proxy_index]\n",
    "        print(proxy_use)\n",
    "        proxy_index += 1\n",
    "        url = f'https://www.zillow.com/homes/for_sale/{zc}/0_singlestory/days_sort'\n",
    "        chrome_options = webdriver.ChromeOptions()\n",
    "        chrome_options.add_argument(f'--proxy-server=http://{proxy_use}')\n",
    "        driver = webdriver.Chrome(executable_path='./chromedriver', chrome_options=chrome_options)\n",
    "        driver.get(url)\n",
    "        time.sleep(30)\n",
    "        html = driver.execute_script(\"return document.getElementsByTagName('html')[0].innerHTML\")\n",
    "        soup = BeautifulSoup(html, 'html.parser')\n",
    "        driver.close()\n",
    "\n",
    "        zipcode = zc\n",
    "        list_card = soup.find_all(class_ = \"list-card-info\")\n",
    "    proxy_index -= 1\n",
    "    \n",
    "    for i in list_card:\n",
    "        url = i.find('a')['href']\n",
    "        address = i.find(class_ = \"list-card-addr\").text\n",
    "        listing_type = i.find(class_ = \"list-card-type\").text\n",
    "        price = i.find(class_ = \"list-card-price\").text\n",
    "        details = i.find(class_ = \"list-card-details\").text\n",
    "    \n",
    "        if 'bds' in details: \n",
    "            bds_loc = details.find('bds')\n",
    "            ba_loc = details.find('ba')\n",
    "            sqft_loc = details.find('sqft')\n",
    "\n",
    "            num_bds = details[0:bds_loc].strip()\n",
    "            num_ba = details[bds_loc+3:ba_loc].strip()\n",
    "            sqft_num = details[ba_loc+2:sqft_loc].strip()\n",
    "        elif 'bd' in details: \n",
    "            bds_loc = details.find('bd')\n",
    "            ba_loc = details.find('ba')\n",
    "            sqft_loc = details.find('sqft')\n",
    "\n",
    "            num_bds = details[0:bds_loc].strip()\n",
    "            num_ba = details[bds_loc+2:ba_loc].strip()\n",
    "            sqft_num = details[ba_loc+2:sqft_loc].strip()\n",
    "        else:\n",
    "            num_bds = ''\n",
    "            num_ba = ''\n",
    "            sqft_num = ''\n",
    "\n",
    "        row = [zipcode, address, listing_type, price, num_bds, num_ba, sqft_num, details, url]\n",
    "        df.loc[len(df)] = row\n",
    "    time.sleep(30)\n",
    "    \n",
    "    \n",
    "df['extract_ts'] = str(datetime.now())"
   ]
  },
  {
   "cell_type": "code",
   "execution_count": null,
   "metadata": {},
   "outputs": [],
   "source": [
    "df.shape"
   ]
  },
  {
   "cell_type": "code",
   "execution_count": null,
   "metadata": {},
   "outputs": [],
   "source": [
    "df.groupby(['zipcode']).nunique()"
   ]
  },
  {
   "cell_type": "code",
   "execution_count": null,
   "metadata": {},
   "outputs": [],
   "source": [
    "df.head()"
   ]
  },
  {
   "cell_type": "code",
   "execution_count": null,
   "metadata": {},
   "outputs": [],
   "source": [
    "df.to_csv('data/zillow_2020-06-22.csv')"
   ]
  },
  {
   "cell_type": "code",
   "execution_count": null,
   "metadata": {},
   "outputs": [],
   "source": []
  }
 ],
 "metadata": {
  "kernelspec": {
   "display_name": "Python 3",
   "language": "python",
   "name": "python3"
  },
  "language_info": {
   "codemirror_mode": {
    "name": "ipython",
    "version": 3
   },
   "file_extension": ".py",
   "mimetype": "text/x-python",
   "name": "python",
   "nbconvert_exporter": "python",
   "pygments_lexer": "ipython3",
   "version": "3.6.5"
  }
 },
 "nbformat": 4,
 "nbformat_minor": 2
}
